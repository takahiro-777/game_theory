{
 "cells": [
  {
   "cell_type": "code",
   "execution_count": 1,
   "metadata": {
    "collapsed": true
   },
   "outputs": [],
   "source": [
    "\"\"\"\n",
    "Chapter_3.1. Accessing strategies\n",
    "参考\n",
    "https://axelrod.readthedocs.io/en/stable/tutorials/advanced/strategies.html\n",
    "\"\"\"\n",
    "import axelrod as axl"
   ]
  },
  {
   "cell_type": "code",
   "execution_count": 2,
   "metadata": {},
   "outputs": [
    {
     "name": "stdout",
     "output_type": "stream",
     "text": [
      "Tit For Tat\n",
      "Cooperator\n"
     ]
    }
   ],
   "source": [
    "print(axl.TitForTat())\n",
    "# Tit For Tat\n",
    "print(axl.Cooperator())\n",
    "# Cooperator"
   ]
  },
  {
   "cell_type": "code",
   "execution_count": 4,
   "metadata": {},
   "outputs": [
    {
     "name": "stdout",
     "output_type": "stream",
     "text": [
      "[<class 'axelrod.strategies.adaptive.Adaptive'>, <class 'axelrod.strategies.titfortat.AdaptiveTitForTat'>, <class 'axelrod.strategies.grudger.Aggravater'>, <class 'axelrod.strategies.titfortat.Alexei'>, <class 'axelrod.strategies.memoryone.ALLCorALLD'>]\n",
      "203\n"
     ]
    }
   ],
   "source": [
    "print(axl.strategies[0:5])\n",
    "print(len(axl.strategies))"
   ]
  },
  {
   "cell_type": "code",
   "execution_count": 5,
   "metadata": {
    "collapsed": true
   },
   "outputs": [],
   "source": [
    "players = [s() for s in axl.strategies]\n",
    "tournament = axl.Tournament(players)"
   ]
  },
  {
   "cell_type": "code",
   "execution_count": 6,
   "metadata": {},
   "outputs": [
    {
     "name": "stdout",
     "output_type": "stream",
     "text": [
      "[<class 'axelrod.strategies.cooperator.Cooperator'>, <class 'axelrod.strategies.defector.Defector'>, <class 'axelrod.strategies.titfortat.TitForTat'>, <class 'axelrod.strategies.grudger.Grudger'>, <class 'axelrod.strategies.rand.Random'>]\n",
      "5\n",
      "[<class 'axelrod.strategies.alternator.Alternator'>, <class 'axelrod.strategies.titfortat.AntiTitForTat'>, <class 'axelrod.strategies.titfortat.Bully'>, <class 'axelrod.strategies.cooperator.Cooperator'>, <class 'axelrod.strategies.cycler.CyclerDC'>]\n",
      "11\n",
      "[<class 'axelrod.strategies.dbs.DBS'>, <class 'axelrod.strategies.meta.MetaMajority'>, <class 'axelrod.strategies.meta.MetaMajorityFiniteMemory'>, <class 'axelrod.strategies.meta.MetaMajorityLongMemory'>, <class 'axelrod.strategies.meta.MetaMinority'>]\n",
      "18\n"
     ]
    }
   ],
   "source": [
    "print(axl.demo_strategies[0:5])  # 5 simple strategies useful for demonstration.\n",
    "print(len(axl.demo_strategies))\n",
    "print(axl.basic_strategies[0:5])  # A set of basic strategies.\n",
    "print(len(axl.basic_strategies))\n",
    "print(axl.long_run_time_strategies[0:5])  # These have a high computational cost\n",
    "print(len(axl.long_run_time_strategies))"
   ]
  },
  {
   "cell_type": "code",
   "execution_count": 7,
   "metadata": {},
   "outputs": [
    {
     "name": "stdout",
     "output_type": "stream",
     "text": [
      "[<class 'axelrod.strategies.darwin.Darwin'>, <class 'axelrod.strategies.geller.Geller'>, <class 'axelrod.strategies.geller.GellerCooperator'>, <class 'axelrod.strategies.geller.GellerDefector'>, <class 'axelrod.strategies.mindcontrol.MindBender'>]\n",
      "10\n"
     ]
    }
   ],
   "source": [
    "print(axl.cheating_strategies[0:5])\n",
    "print(len(axl.cheating_strategies))"
   ]
  },
  {
   "cell_type": "code",
   "execution_count": 8,
   "metadata": {},
   "outputs": [
    {
     "name": "stdout",
     "output_type": "stream",
     "text": [
      "[<class 'axelrod.strategies.adaptive.Adaptive'>, <class 'axelrod.strategies.titfortat.AdaptiveTitForTat'>, <class 'axelrod.strategies.grudger.Aggravater'>, <class 'axelrod.strategies.titfortat.Alexei'>, <class 'axelrod.strategies.memoryone.ALLCorALLD'>]\n",
      "213\n"
     ]
    }
   ],
   "source": [
    "print(axl.all_strategies[0:5])\n",
    "print(len(axl.all_strategies))"
   ]
  },
  {
   "cell_type": "code",
   "execution_count": null,
   "metadata": {
    "collapsed": true
   },
   "outputs": [],
   "source": []
  }
 ],
 "metadata": {
  "kernelspec": {
   "display_name": "Python 3",
   "language": "python",
   "name": "python3"
  },
  "language_info": {
   "codemirror_mode": {
    "name": "ipython",
    "version": 3
   },
   "file_extension": ".py",
   "mimetype": "text/x-python",
   "name": "python",
   "nbconvert_exporter": "python",
   "pygments_lexer": "ipython3",
   "version": "3.5.2"
  }
 },
 "nbformat": 4,
 "nbformat_minor": 2
}
