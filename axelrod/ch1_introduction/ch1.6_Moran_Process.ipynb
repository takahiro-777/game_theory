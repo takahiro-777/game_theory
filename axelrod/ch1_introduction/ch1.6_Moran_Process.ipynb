{
 "cells": [
  {
   "cell_type": "code",
   "execution_count": 1,
   "metadata": {
    "collapsed": true
   },
   "outputs": [],
   "source": [
    "\"\"\"\n",
    "Chapter_1.6. Moran Process\n",
    "参考\n",
    "https://axelrod.readthedocs.io/en/stable/tutorials/getting_started/moran.html\n",
    "\"\"\"\n",
    "import axelrod as axl"
   ]
  },
  {
   "cell_type": "code",
   "execution_count": 2,
   "metadata": {},
   "outputs": [
    {
     "name": "stdout",
     "output_type": "stream",
     "text": [
      "Defector\n"
     ]
    }
   ],
   "source": [
    "axl.seed(0)  # for reproducible example\n",
    "players = [axl.Cooperator(), axl.Defector(), axl.TitForTat(), axl.Grudger()]\n",
    "mp = axl.MoranProcess(players)\n",
    "populations = mp.play()\n",
    "print(mp.winning_strategy_name)"
   ]
  },
  {
   "cell_type": "code",
   "execution_count": 3,
   "metadata": {},
   "outputs": [
    {
     "name": "stdout",
     "output_type": "stream",
     "text": [
      "16\n"
     ]
    }
   ],
   "source": [
    "print(len(mp))"
   ]
  },
  {
   "cell_type": "code",
   "execution_count": 4,
   "metadata": {},
   "outputs": [
    {
     "name": "stdout",
     "output_type": "stream",
     "text": [
      "[Counter({'Tit For Tat': 1, 'Defector': 1, 'Cooperator': 1, 'Grudger': 1}),\n",
      " Counter({'Tit For Tat': 1, 'Defector': 1, 'Cooperator': 1, 'Grudger': 1}),\n",
      " Counter({'Cooperator': 2, 'Tit For Tat': 1, 'Defector': 1}),\n",
      " Counter({'Defector': 2, 'Cooperator': 2}),\n",
      " Counter({'Cooperator': 3, 'Defector': 1}),\n",
      " Counter({'Cooperator': 3, 'Defector': 1}),\n",
      " Counter({'Defector': 2, 'Cooperator': 2}),\n",
      " Counter({'Defector': 3, 'Cooperator': 1}),\n",
      " Counter({'Defector': 3, 'Cooperator': 1}),\n",
      " Counter({'Defector': 3, 'Cooperator': 1}),\n",
      " Counter({'Defector': 3, 'Cooperator': 1}),\n",
      " Counter({'Defector': 3, 'Cooperator': 1}),\n",
      " Counter({'Defector': 3, 'Cooperator': 1}),\n",
      " Counter({'Defector': 3, 'Cooperator': 1}),\n",
      " Counter({'Defector': 3, 'Cooperator': 1}),\n",
      " Counter({'Defector': 4})]\n"
     ]
    }
   ],
   "source": [
    "import pprint\n",
    "pprint.pprint(populations) "
   ]
  },
  {
   "cell_type": "code",
   "execution_count": 5,
   "metadata": {},
   "outputs": [
    {
     "name": "stdout",
     "output_type": "stream",
     "text": [
      "[6.0, 7.0, 7.0, 7.0]\n",
      "[6.0, 7.0, 7.0, 7.0]\n",
      "[6.0, 11.0, 7.0, 6.0]\n",
      "[3.0, 11.0, 11.0, 3.0]\n",
      "[6.0, 15.0, 6.0, 6.0]\n",
      "[6.0, 15.0, 6.0, 6.0]\n",
      "[3.0, 11.0, 11.0, 3.0]\n",
      "[7.0, 7.0, 7.0, 0.0]\n",
      "[7.0, 7.0, 7.0, 0.0]\n",
      "[7.0, 7.0, 7.0, 0.0]\n",
      "[7.0, 7.0, 7.0, 0.0]\n",
      "[7.0, 7.0, 7.0, 0.0]\n",
      "[7.0, 7.0, 7.0, 0.0]\n",
      "[7.0, 7.0, 7.0, 0.0]\n",
      "[7.0, 7.0, 7.0, 0.0]\n"
     ]
    }
   ],
   "source": [
    "for row in mp.score_history:\n",
    "    print([round(element, 1) for element in row])"
   ]
  },
  {
   "cell_type": "code",
   "execution_count": 6,
   "metadata": {},
   "outputs": [
    {
     "name": "stdout",
     "output_type": "stream",
     "text": [
      "Cooperator\n"
     ]
    },
    {
     "data": {
      "image/png": "[encoded data removed]",
      "text/plain": [
       "<matplotlib.figure.Figure at 0x10de91a58>"
      ]
     },
     "metadata": {},
     "output_type": "display_data"
    }
   ],
   "source": [
    "import random\n",
    "import matplotlib.pyplot as plt\n",
    "axl.seed(15)  # for reproducible example\n",
    "players = [axl.Defector(), axl.Defector(), axl.Defector(),\n",
    "       axl.Cooperator(), axl.Cooperator(), axl.Cooperator(),\n",
    "       axl.TitForTat(), axl.TitForTat(), axl.TitForTat(),\n",
    "       axl.Random()]\n",
    "mp = axl.MoranProcess(players=players, turns=200)\n",
    "populations = mp.play()\n",
    "print(mp.winning_strategy_name)\n",
    "# 'Cooperator'\n",
    "ax = mp.populations_plot()\n",
    "plt.show()"
   ]
  },
  {
   "cell_type": "code",
   "execution_count": 7,
   "metadata": {},
   "outputs": [
    {
     "name": "stdout",
     "output_type": "stream",
     "text": [
      "Counter({'Grudger': 4})\n"
     ]
    }
   ],
   "source": [
    "import axelrod as axl\n",
    "axl.seed(4)  # for reproducible example\n",
    "players = [axl.Cooperator(), axl.Defector(),\n",
    "           axl.TitForTat(), axl.Grudger()]\n",
    "mp = axl.MoranProcess(players, mutation_rate=0.1)\n",
    "for _ in mp:\n",
    "    if len(mp.population_distribution()) == 1:\n",
    "        break\n",
    "print(mp.population_distribution())\n",
    "# Counter({'Grudger': 4})"
   ]
  },
  {
   "cell_type": "code",
   "execution_count": null,
   "metadata": {
    "collapsed": true
   },
   "outputs": [],
   "source": []
  }
 ],
 "metadata": {
  "kernelspec": {
   "display_name": "Python 3",
   "language": "python",
   "name": "python3"
  },
  "language_info": {
   "codemirror_mode": {
    "name": "ipython",
    "version": 3
   },
   "file_extension": ".py",
   "mimetype": "text/x-python",
   "name": "python",
   "nbconvert_exporter": "python",
   "pygments_lexer": "ipython3",
   "version": "3.5.2"
  }
 },
 "nbformat": 4,
 "nbformat_minor": 2
}
