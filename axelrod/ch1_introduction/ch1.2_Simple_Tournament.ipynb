{
 "cells": [
  {
   "cell_type": "code",
   "execution_count": 1,
   "metadata": {
    "collapsed": true
   },
   "outputs": [],
   "source": [
    "\"\"\"\n",
    "Chapter_1.2. Creating and running a simple tournament\n",
    "参考\n",
    "https://axelrod.readthedocs.io/en/stable/tutorials/getting_started/tournament.html\n",
    "\"\"\"\n",
    "import axelrod as axl"
   ]
  },
  {
   "cell_type": "code",
   "execution_count": 2,
   "metadata": {},
   "outputs": [
    {
     "name": "stdout",
     "output_type": "stream",
     "text": [
      "[Cooperator, Defector, Tit For Tat, Grudger]\n"
     ]
    }
   ],
   "source": [
    "# creates a list players playing simple strategies\n",
    "players = [axl.Cooperator(), axl.Defector(), axl.TitForTat(), axl.Grudger()]\n",
    "print(players)"
   ]
  },
  {
   "cell_type": "code",
   "execution_count": 3,
   "metadata": {},
   "outputs": [
    {
     "name": "stderr",
     "output_type": "stream",
     "text": [
      "Playing matches: 100%|██████████| 10/10 [00:00<00:00, 152.33it/s]\n",
      "Analysing: 100%|██████████| 100/100 [00:00<00:00, 733.74it/s]\n",
      "Finishing: 100%|██████████| 21/21 [00:00<00:00, 3736.02it/s]"
     ]
    },
    {
     "name": "stdout",
     "output_type": "stream",
     "text": [
      "['Defector', 'Tit For Tat', 'Grudger', 'Cooperator']\n"
     ]
    },
    {
     "name": "stderr",
     "output_type": "stream",
     "text": [
      "\n"
     ]
    }
   ],
   "source": [
    "# We can also plot these results:\n",
    "tournament = axl.Tournament(players)\n",
    "results = tournament.play()\n",
    "print(results.ranked_names)"
   ]
  },
  {
   "cell_type": "code",
   "execution_count": null,
   "metadata": {
    "collapsed": true
   },
   "outputs": [],
   "source": []
  }
 ],
 "metadata": {
  "kernelspec": {
   "display_name": "Python 3",
   "language": "python",
   "name": "python3"
  },
  "language_info": {
   "codemirror_mode": {
    "name": "ipython",
    "version": 3
   },
   "file_extension": ".py",
   "mimetype": "text/x-python",
   "name": "python",
   "nbconvert_exporter": "python",
   "pygments_lexer": "ipython3",
   "version": "3.5.2"
  }
 },
 "nbformat": 4,
 "nbformat_minor": 2
}
