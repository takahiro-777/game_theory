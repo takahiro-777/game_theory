{
 "cells": [
  {
   "cell_type": "code",
   "execution_count": 1,
   "metadata": {},
   "outputs": [],
   "source": [
    "\"\"\"\n",
    "Chapter_1.1. Creating Matches\n",
    "参考\n",
    "https://axelrod.readthedocs.io/en/stable/tutorials/getting_started/match.html\n",
    "\"\"\"\n",
    "import axelrod as axl"
   ]
  },
  {
   "cell_type": "code",
   "execution_count": 2,
   "metadata": {},
   "outputs": [
    {
     "name": "stdout",
     "output_type": "stream",
     "text": [
      "[(C, C), (C, D), (C, C), (C, D), (C, C)]\n"
     ]
    }
   ],
   "source": [
    "# To create a 5 turn match between Cooperator and Alternator:\n",
    "players = (axl.Cooperator(), axl.Alternator())\n",
    "match = axl.Match(players, 5)\n",
    "print(match.play())"
   ]
  },
  {
   "cell_type": "code",
   "execution_count": 3,
   "metadata": {},
   "outputs": [
    {
     "name": "stdout",
     "output_type": "stream",
     "text": [
      "[(D, C), (C, D), (C, D), (C, C), (C, D)]\n"
     ]
    }
   ],
   "source": [
    "# Introducing noise(probability with which any action dictated by a strategy will be swapped)\n",
    "match = axl.Match(players=players, turns=5, noise=0.2)\n",
    "print(match.play())"
   ]
  },
  {
   "cell_type": "code",
   "execution_count": 4,
   "metadata": {},
   "outputs": [
    {
     "name": "stdout",
     "output_type": "stream",
     "text": [
      "[(D, C), (C, D), (C, D), (C, C), (C, D)]\n",
      "[(C, C), (D, D), (C, C), (C, D), (C, C)]\n",
      "[(C, C), (D, D), (C, C), (C, D), (C, C)]\n"
     ]
    }
   ],
   "source": [
    "# The result of the match is held as an attribute within the Match class. Each time play() is called, \n",
    "# it will overwrite the content of that attribute\n",
    "\n",
    "print(match.result)\n",
    "# [(D, C), (C, D), (C, C), (C, D), (D, D)]\n",
    "print(match.play())\n",
    "# [(C, C), (C, C), (C, D), (C, C), (C, C)]\n",
    "print(match.result)\n",
    "# [(C, C), (C, C), (C, D), (C, C), (C, C)]"
   ]
  },
  {
   "cell_type": "code",
   "execution_count": 5,
   "metadata": {},
   "outputs": [
    {
     "name": "stdout",
     "output_type": "stream",
     "text": [
      "[(C, C), (C, D), (C, C), (C, D), (C, C), (C, D), (C, C), (C, D), (C, C), (C, D), (C, C), (C, D), (C, C), (C, D), (C, C), (C, D), (C, C), (C, D), (C, C), (C, D), (C, C), (C, D), (C, C), (C, D), (C, C)]\n",
      "█████████████████████████\n",
      "█ █ █ █ █ █ █ █ █ █ █ █ █\n"
     ]
    }
   ],
   "source": [
    "# The result of the match can also be viewed as sparklines where cooperation is shown as a solid block and defection as a space.\n",
    "# Sparklines are a very concise way to view the result and can be useful for spotting patterns:\n",
    "\n",
    "players = (axl.Cooperator(), axl.Alternator())\n",
    "match = axl.Match(players, 25)\n",
    "print(match.play())\n",
    "# [(C, C), (C, D), (C, C), (C, D), (C, C), (C, D), (C, C), (C, D), (C, C), (C, D), (C, C), (C, D), (C, C), (C, D), (C, C), (C, D), (C, C), (C, D), (C, C), (C, D), (C, C), (C, D), (C, C), (C, D), (C, C)]\n",
    "print(match.sparklines()) "
   ]
  },
  {
   "cell_type": "code",
   "execution_count": 6,
   "metadata": {},
   "outputs": [
    {
     "name": "stdout",
     "output_type": "stream",
     "text": [
      "[(C, C), (C, D), (C, C), (C, D), (C, C), (C, D), (C, C), (C, D), (C, C), (C, D), (C, C), (C, D), (C, C), (C, D), (C, C), (C, D), (C, C), (C, D), (C, C), (C, D), (C, C), (C, D), (C, C), (C, D), (C, C)]\n",
      "|||||||||||||||||||||||||\n",
      "|-|-|-|-|-|-|-|-|-|-|-|-|\n"
     ]
    }
   ],
   "source": [
    "# you can use any characters you like\n",
    "players = (axl.Cooperator(), axl.Alternator())\n",
    "match = axl.Match(players, 25)\n",
    "print(match.play())\n",
    "# [(C, C), (C, D), (C, C), (C, D), (C, C), (C, D), (C, C), (C, D), (C, C), (C, D), (C, C), (C, D), (C, C), (C, D), (C, C), (C, D), (C, C), (C, D), (C, C), (C, D), (C, C), (C, D), (C, C), (C, D), (C, C)]\n",
    "print(match.sparklines(c_symbol='|', d_symbol='-'))"
   ]
  },
  {
   "cell_type": "code",
   "execution_count": 7,
   "metadata": {},
   "outputs": [
    {
     "name": "stdout",
     "output_type": "stream",
     "text": [
      "[(C, C), (C, D), (C, C), (C, D), (C, C), (C, D), (C, C), (C, D), (C, C), (C, D), (C, C), (C, D), (C, C), (C, D), (C, C), (C, D), (C, C), (C, D), (C, C), (C, D), (C, C), (C, D), (C, C), (C, D), (C, C)]\n",
      "[(3, 3), (0, 5), (3, 3), (0, 5), (3, 3), (0, 5), (3, 3), (0, 5), (3, 3), (0, 5), (3, 3), (0, 5), (3, 3), (0, 5), (3, 3), (0, 5), (3, 3), (0, 5), (3, 3), (0, 5), (3, 3), (0, 5), (3, 3), (0, 5), (3, 3)]\n"
     ]
    }
   ],
   "source": [
    "# A Match class can also score the individual turns of a match. Just call match.scores() after play\n",
    "players = (axl.Cooperator(), axl.Alternator())\n",
    "match = axl.Match(players, 25)\n",
    "print(match.play())\n",
    "# [(C, C), (C, D), (C, C), (C, D), (C, C), (C, D), (C, C), (C, D), (C, C), (C, D), (C, C), (C, D), (C, C), (C, D), (C, C), (C, D), (C, C), (C, D), (C, C), (C, D), (C, C), (C, D), (C, C), (C, D), (C, C)]\n",
    "print(match.scores())\n",
    "# [(3, 3), (0, 5), (3, 3), (0, 5), (3, 3), (0, 5), (3, 3), (0, 5), (3, 3), (0, 5), (3, 3), (0, 5), (3, 3), (0, 5), (3, 3), (0, 5), (3, 3), (0, 5), (3, 3), (0, 5), (3, 3), (0, 5), (3, 3), (0, 5), (3, 3)]"
   ]
  },
  {
   "cell_type": "code",
   "execution_count": 8,
   "metadata": {},
   "outputs": [
    {
     "name": "stdout",
     "output_type": "stream",
     "text": [
      "(39, 99)\n",
      "(1.56, 3.96)\n",
      "Alternator\n",
      "(25, 13)\n",
      "(1.0, 0.52)\n"
     ]
    }
   ],
   "source": [
    "# There are various further methods\n",
    "print(match.final_score())\n",
    "# (39, 99)\n",
    "print(match.final_score_per_turn())\n",
    "# (1.56, 3.96)\n",
    "print(match.winner())\n",
    "# Alternator\n",
    "print(match.cooperation())  # The count of cooperations\n",
    "# (25, 13)\n",
    "print(match.normalised_cooperation())  # The count of cooperations per turn\n",
    "# (1.0, 0.52)"
   ]
  },
  {
   "cell_type": "code",
   "execution_count": null,
   "metadata": {
    "collapsed": true
   },
   "outputs": [],
   "source": []
  }
 ],
 "metadata": {
  "kernelspec": {
   "display_name": "Python 3",
   "language": "python",
   "name": "python3"
  },
  "language_info": {
   "codemirror_mode": {
    "name": "ipython",
    "version": 3
   },
   "file_extension": ".py",
   "mimetype": "text/x-python",
   "name": "python",
   "nbconvert_exporter": "python",
   "pygments_lexer": "ipython3",
   "version": "3.5.2"
  }
 },
 "nbformat": 4,
 "nbformat_minor": 2
}
