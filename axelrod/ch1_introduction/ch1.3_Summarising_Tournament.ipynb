{
 "cells": [
  {
   "cell_type": "code",
   "execution_count": 1,
   "metadata": {
    "collapsed": true
   },
   "outputs": [],
   "source": [
    "\"\"\"\n",
    "Chapter_1.3. Summarising tournament results\n",
    "参考\n",
    "https://axelrod.readthedocs.io/en/stable/tutorials/getting_started/summarising_tournaments.html\n",
    "\"\"\"\n",
    "import axelrod as axl"
   ]
  },
  {
   "cell_type": "code",
   "execution_count": 2,
   "metadata": {},
   "outputs": [
    {
     "name": "stderr",
     "output_type": "stream",
     "text": [
      "Playing matches: 100%|██████████| 10/10 [00:00<00:00, 1949.75it/s]\n",
      "Analysing: 100%|██████████| 30/30 [00:00<00:00, 4863.90it/s]\n",
      "Finishing: 100%|██████████| 21/21 [00:00<00:00, 3994.76it/s]\n"
     ]
    }
   ],
   "source": [
    "# As shown in Creating and running a simple tournament let us create a tournament\n",
    "players = [axl.Cooperator(), axl.Defector(), axl.TitForTat(), axl.Grudger()]\n",
    "tournament = axl.Tournament(players, turns=10, repetitions=3)\n",
    "results = tournament.play()"
   ]
  },
  {
   "cell_type": "code",
   "execution_count": 3,
   "metadata": {},
   "outputs": [
    {
     "name": "stdout",
     "output_type": "stream",
     "text": [
      "[Player(Rank=0, Name='Defector', Median_score=2.6000000000000001, Cooperation_rating=0.0, Wins=3.0, Initial_C_rate=0.0, CC_rate=0.0, CD_rate=0.0, DC_rate=0.4000000000000001, DD_rate=0.6, CC_to_C_rate=0, CD_to_C_rate=0, DC_to_C_rate=0, DD_to_C_rate=0),\n",
      " Player(Rank=1, Name='Tit For Tat', Median_score=2.3000000000000003, Cooperation_rating=0.7, Wins=0.0, Initial_C_rate=1.0, CC_rate=0.6666666666666666, CD_rate=0.03333333333333333, DC_rate=0.0, DD_rate=0.3, CC_to_C_rate=1.0, CD_to_C_rate=0, DC_to_C_rate=0, DD_to_C_rate=0),\n",
      " Player(Rank=2, Name='Grudger', Median_score=2.3000000000000003, Cooperation_rating=0.7, Wins=0.0, Initial_C_rate=1.0, CC_rate=0.6666666666666666, CD_rate=0.03333333333333333, DC_rate=0.0, DD_rate=0.3, CC_to_C_rate=1.0, CD_to_C_rate=0, DC_to_C_rate=0, DD_to_C_rate=0),\n",
      " Player(Rank=3, Name='Cooperator', Median_score=2.0, Cooperation_rating=1.0, Wins=0.0, Initial_C_rate=1.0, CC_rate=0.6666666666666666, CD_rate=0.3333333333333333, DC_rate=0.0, DD_rate=0.0, CC_to_C_rate=1.0, CD_to_C_rate=1.0, DC_to_C_rate=0, DD_to_C_rate=0)]\n"
     ]
    }
   ],
   "source": [
    "# The results set can return a list of named tuples, ordered by strategy rank that summarises the results of the tournament:\n",
    "summary = results.summarise()\n",
    "import pprint\n",
    "pprint.pprint(summary)"
   ]
  },
  {
   "cell_type": "code",
   "execution_count": 4,
   "metadata": {},
   "outputs": [
    {
     "name": "stdout",
     "output_type": "stream",
     "text": [
      "['Rank', 'Name', 'Median_score', 'Cooperation_rating', 'Wins', 'Initial_C_rate', 'CC_rate', 'CD_rate', 'DC_rate', 'DD_rate', 'CC_to_C_rate', 'CD_to_C_rate', 'DC_to_C_rate', 'DD_to_C_rate']\n",
      "['0', 'Defector', '2.6', '0.0', '3.0', '0.0', '0.0', '0.0', '0.4000000000000001', '0.6', '0', '0', '0', '0']\n",
      "['1', 'Tit For Tat', '2.3', '0.7', '0.0', '1.0', '0.6666666666666666', '0.03333333333333333', '0.0', '0.3', '1.0', '0', '0', '0']\n",
      "['2', 'Grudger', '2.3', '0.7', '0.0', '1.0', '0.6666666666666666', '0.03333333333333333', '0.0', '0.3', '1.0', '0', '0', '0']\n",
      "['3', 'Cooperator', '2.0', '1.0', '0.0', '1.0', '0.6666666666666666', '0.3333333333333333', '0.0', '0.0', '1.0', '1.0', '0', '0']\n"
     ]
    }
   ],
   "source": [
    "# It is also possible to write this data directly to a csv file using the write_summary method:\n",
    "results.write_summary('summary.csv')\n",
    "import csv\n",
    "with open('summary.csv', 'r') as outfile:\n",
    "    csvreader = csv.reader(outfile)\n",
    "    for row in csvreader:\n",
    "        print(row)"
   ]
  },
  {
   "cell_type": "code",
   "execution_count": null,
   "metadata": {
    "collapsed": true
   },
   "outputs": [],
   "source": []
  }
 ],
 "metadata": {
  "kernelspec": {
   "display_name": "Python 3",
   "language": "python",
   "name": "python3"
  },
  "language_info": {
   "codemirror_mode": {
    "name": "ipython",
    "version": 3
   },
   "file_extension": ".py",
   "mimetype": "text/x-python",
   "name": "python",
   "nbconvert_exporter": "python",
   "pygments_lexer": "ipython3",
   "version": "3.5.2"
  }
 },
 "nbformat": 4,
 "nbformat_minor": 2
}
