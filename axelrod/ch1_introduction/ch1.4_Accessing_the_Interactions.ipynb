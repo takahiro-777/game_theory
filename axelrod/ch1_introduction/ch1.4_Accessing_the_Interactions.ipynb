{
 "cells": [
  {
   "cell_type": "code",
   "execution_count": 1,
   "metadata": {
    "collapsed": true
   },
   "outputs": [],
   "source": [
    "\"\"\"\n",
    "Chapter_1.4. Accessing the interactions\n",
    "参考\n",
    "https://axelrod.readthedocs.io/en/stable/tutorials/getting_started/interactions.html\n",
    "\"\"\"\n",
    "import axelrod as axl"
   ]
  },
  {
   "cell_type": "code",
   "execution_count": 2,
   "metadata": {},
   "outputs": [
    {
     "name": "stderr",
     "output_type": "stream",
     "text": [
      "Playing matches: 100%|██████████| 10/10 [00:00<00:00, 1652.34it/s]\n",
      "Analysing: 100%|██████████| 10/10 [00:00<00:00, 4633.57it/s]\n",
      "Finishing: 100%|██████████| 21/21 [00:00<00:00, 3208.06it/s]\n"
     ]
    }
   ],
   "source": [
    "players = [axl.Cooperator(), axl.Defector(), axl.TitForTat(), axl.Grudger()]\n",
    "tournament = axl.Tournament(players, turns=3, repetitions=1)\n",
    "results = tournament.play(keep_interactions=True)"
   ]
  },
  {
   "cell_type": "code",
   "execution_count": 3,
   "metadata": {},
   "outputs": [
    {
     "name": "stdout",
     "output_type": "stream",
     "text": [
      "Cooperator vs Cooperator: [(C, C), (C, C), (C, C)]\n",
      "Cooperator vs Defector: [(C, D), (C, D), (C, D)]\n",
      "Cooperator vs Tit For Tat: [(C, C), (C, C), (C, C)]\n",
      "Cooperator vs Grudger: [(C, C), (C, C), (C, C)]\n",
      "Defector vs Defector: [(D, D), (D, D), (D, D)]\n",
      "Defector vs Tit For Tat: [(D, C), (D, D), (D, D)]\n",
      "Defector vs Grudger: [(D, C), (D, D), (D, D)]\n",
      "Tit For Tat vs Tit For Tat: [(C, C), (C, C), (C, C)]\n",
      "Tit For Tat vs Grudger: [(C, C), (C, C), (C, C)]\n",
      "Grudger vs Grudger: [(C, C), (C, C), (C, C)]\n"
     ]
    }
   ],
   "source": [
    "for index_pair, interaction in sorted(results.interactions.items()):\n",
    "    player1 = tournament.players[index_pair[0]]\n",
    "    player2 = tournament.players[index_pair[1]]\n",
    "    print('%s vs %s: %s' % (player1, player2, interaction[0]))"
   ]
  },
  {
   "cell_type": "code",
   "execution_count": 4,
   "metadata": {},
   "outputs": [
    {
     "name": "stdout",
     "output_type": "stream",
     "text": [
      "10\n"
     ]
    }
   ],
   "source": [
    "matches = []\n",
    "for index_pair, interaction in sorted(results.interactions.items()):\n",
    "    player1 = tournament.players[index_pair[0]]\n",
    "    player2 = tournament.players[index_pair[1]]\n",
    "    match = axl.Match([player1, player2], turns=3)\n",
    "    match.result = interaction[0]\n",
    "    matches.append(match)\n",
    "print(len(matches))"
   ]
  },
  {
   "cell_type": "code",
   "execution_count": 5,
   "metadata": {},
   "outputs": [
    {
     "name": "stdout",
     "output_type": "stream",
     "text": [
      "Cooperator v Cooperator, winner: False\n",
      "Cooperator v Defector, winner: Defector\n",
      "Cooperator v Tit For Tat, winner: False\n",
      "Cooperator v Grudger, winner: False\n",
      "Defector v Defector, winner: False\n",
      "Defector v Tit For Tat, winner: Defector\n",
      "Defector v Grudger, winner: Defector\n",
      "Tit For Tat v Tit For Tat, winner: False\n",
      "Tit For Tat v Grudger, winner: False\n",
      "Grudger v Grudger, winner: False\n"
     ]
    }
   ],
   "source": [
    "for match in matches:\n",
    "    print(\"{} v {}, winner: {}\".format(match.players[0], match.players[1], match.winner()))"
   ]
  },
  {
   "cell_type": "code",
   "execution_count": null,
   "metadata": {
    "collapsed": true
   },
   "outputs": [],
   "source": []
  }
 ],
 "metadata": {
  "kernelspec": {
   "display_name": "Python 3",
   "language": "python",
   "name": "python3"
  },
  "language_info": {
   "codemirror_mode": {
    "name": "ipython",
    "version": 3
   },
   "file_extension": ".py",
   "mimetype": "text/x-python",
   "name": "python",
   "nbconvert_exporter": "python",
   "pygments_lexer": "ipython3",
   "version": "3.5.2"
  }
 },
 "nbformat": 4,
 "nbformat_minor": 2
}
